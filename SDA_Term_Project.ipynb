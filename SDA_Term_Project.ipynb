{
  "nbformat": 4,
  "nbformat_minor": 0,
  "metadata": {
    "colab": {
      "provenance": [],
      "toc_visible": true,
      "include_colab_link": true
    },
    "kernelspec": {
      "name": "python3",
      "display_name": "Python 3"
    },
    "language_info": {
      "name": "python"
    }
  },
  "cells": [
    {
      "cell_type": "markdown",
      "metadata": {
        "id": "view-in-github",
        "colab_type": "text"
      },
      "source": [
        "<a href=\"https://colab.research.google.com/github/H-Jaeseok/SDAproject/blob/main/SDA_Term_Project.ipynb\" target=\"_parent\"><img src=\"https://colab.research.google.com/assets/colab-badge.svg\" alt=\"Open In Colab\"/></a>"
      ]
    },
    {
      "cell_type": "code",
      "execution_count": null,
      "metadata": {
        "id": "D2lI-JxE8C-v"
      },
      "outputs": [],
      "source": [
        "import pandas as pd\n",
        "import numpy as np\n",
        "import matplotlib as mpl\n",
        "import matplotlib.pyplot as plt\n",
        "import seaborn as sns"
      ]
    },
    {
      "cell_type": "markdown",
      "source": [
        "# 데이터 불러오기 및 사전 처리"
      ],
      "metadata": {
        "id": "pRQBe6DWEYIQ"
      }
    },
    {
      "cell_type": "markdown",
      "source": [
        "- df1: 과징금 및 과태료 2014_2021\n",
        "- df2: 사망원인별+사망(성별_구별)_20221128192713.xlsx\n",
        "- df3: X\n",
        "- df4: 일반회계+세입결산2014~2021.xlsx\n",
        "    - 과징금 및 과태료\n",
        "- df5: 재정자립도_20221128193334.xlsx\n",
        "- df6: X\n",
        "- df7: 특별회계+예산개요(구별)_20221128193010.xlsx"
      ],
      "metadata": {
        "id": "IvFr1zEwFNo7"
      }
    },
    {
      "cell_type": "markdown",
      "source": [
        "- 사용 데이터\n",
        "    - 재정 자립도\n",
        "    - 재정 자주도\n",
        "- 기타 고려 변수\n",
        "    - 과징금 및 과태료"
      ],
      "metadata": {
        "id": "tfyZBvmaFyHV"
      }
    },
    {
      "cell_type": "markdown",
      "source": [
        "- df1: 재정 자립도\n",
        "- df2: 재정 자주도\n",
        "- df3: 과징금 및 과태료\n",
        "- df4: "
      ],
      "metadata": {
        "id": "k97FUIIqHAm7"
      }
    },
    {
      "cell_type": "code",
      "source": [],
      "metadata": {
        "id": "ezq3UjdDG8n1"
      },
      "execution_count": null,
      "outputs": []
    },
    {
      "cell_type": "code",
      "source": [
        "def read_excel(url):\n",
        "    return pd.read_excel(url, engine='openpyxl')\n",
        "\n",
        "df1 = read_excel('https://github.com/mjuppp1/SDA2022/blob/main/data/%EA%B3%BC%EC%A7%95%EA%B8%88%20%EB%B0%8F%20%EA%B3%BC%ED%83%9C%EB%A3%8C_2014_2021.xlsx?raw=true')\n",
        "df2 = read_excel('https://github.com/mjuppp1/SDA2022/blob/main/data/%EC%82%AC%EB%A7%9D%EC%9B%90%EC%9D%B8%EB%B3%84+%EC%82%AC%EB%A7%9D(%EC%84%B1%EB%B3%84_%EA%B5%AC%EB%B3%84)_20221128192713.xlsx?raw=true')\n",
        "#df3 = read_excel('https://github.com/mjuppp1/SDA2022/blob/main/data/%EC%98%88%EC%82%B0%EA%B2%B0%EC%82%B0%EC%B4%9D%EA%B4%84_20221128192906.xlsx?raw=true')\n",
        "df4 = read_excel('https://github.com/mjuppp1/SDA2022/blob/main/data/%EC%9D%BC%EB%B0%98%ED%9A%8C%EA%B3%84+%EC%84%B8%EC%9E%85%EA%B2%B0%EC%82%B02014~2021.xlsx?raw=true')\n",
        "df5 = read_excel('https://github.com/mjuppp1/SDA2022/blob/main/data/%EC%9E%AC%EC%A0%95%EC%9E%90%EB%A6%BD%EB%8F%84_20221128193334.xlsx?raw=true')\n",
        "#df6 = read_excel('https://github.com/mjuppp1/SDA2022/blob/main/data/%EC%A7%80%EB%B0%A9%EC%84%B8+%EB%B6%80%EB%8B%B4_20221128193613.xlsx?raw=true')\n",
        "df7 = read_excel('https://github.com/mjuppp1/SDA2022/blob/main/data/%ED%8A%B9%EB%B3%84%ED%9A%8C%EA%B3%84+%EC%98%88%EC%82%B0%EA%B0%9C%EC%9A%94(%EA%B5%AC%EB%B3%84)_20221128193010.xlsx?raw=true')"
      ],
      "metadata": {
        "colab": {
          "base_uri": "https://localhost:8080/"
        },
        "id": "iliQGlaI-mOG",
        "outputId": "b1cae6dd-47c2-4e53-9d1e-9b873933b925"
      },
      "execution_count": null,
      "outputs": [
        {
          "output_type": "stream",
          "name": "stderr",
          "text": [
            "/usr/local/lib/python3.7/dist-packages/openpyxl/styles/stylesheet.py:226: UserWarning: Workbook contains no default style, apply openpyxl's default\n",
            "  warn(\"Workbook contains no default style, apply openpyxl's default\")\n"
          ]
        }
      ]
    },
    {
      "cell_type": "code",
      "source": [],
      "metadata": {
        "id": "jXP4N3-FEPqH"
      },
      "execution_count": null,
      "outputs": []
    },
    {
      "cell_type": "markdown",
      "source": [
        "# EDA"
      ],
      "metadata": {
        "id": "IT93TKp8Edt3"
      }
    },
    {
      "cell_type": "markdown",
      "source": [
        "# 데이터 전처리"
      ],
      "metadata": {
        "id": "-GYvEMvHEeG0"
      }
    },
    {
      "cell_type": "markdown",
      "source": [
        "# 상관분석"
      ],
      "metadata": {
        "id": "d-KF_yDCEeaJ"
      }
    },
    {
      "cell_type": "markdown",
      "source": [
        "## 가설 설정"
      ],
      "metadata": {
        "id": "pogRcEkgEt2o"
      }
    },
    {
      "cell_type": "markdown",
      "source": [
        "## 상관 분석 조건 확인"
      ],
      "metadata": {
        "id": "Dp0Ip2UYEv47"
      }
    },
    {
      "cell_type": "markdown",
      "source": [
        "### 가설검정"
      ],
      "metadata": {
        "id": "y5mG8w9rEzmd"
      }
    },
    {
      "cell_type": "markdown",
      "source": [
        "## 상관 분석 진행 및 결과 정리"
      ],
      "metadata": {
        "id": "jAz7GX7XE2WM"
      }
    },
    {
      "cell_type": "code",
      "source": [],
      "metadata": {
        "id": "K6GQXWLKE6wq"
      },
      "execution_count": null,
      "outputs": []
    },
    {
      "cell_type": "markdown",
      "source": [
        "# 회귀분석\n"
      ],
      "metadata": {
        "id": "BHto9XUKEe1z"
      }
    },
    {
      "cell_type": "markdown",
      "source": [
        "## 가설 설정"
      ],
      "metadata": {
        "id": "2a5IBFwtE7hM"
      }
    },
    {
      "cell_type": "markdown",
      "source": [
        "## 회귀 분석 조건 확인"
      ],
      "metadata": {
        "id": "1JfKGNoGE9SP"
      }
    },
    {
      "cell_type": "markdown",
      "source": [
        "### 가설 검정"
      ],
      "metadata": {
        "id": "d6J307hoE_wc"
      }
    },
    {
      "cell_type": "markdown",
      "source": [
        "## 회귀 분석 진행 및 결과 정리"
      ],
      "metadata": {
        "id": "x3DkXVSXFBud"
      }
    },
    {
      "cell_type": "markdown",
      "source": [
        "# 결론"
      ],
      "metadata": {
        "id": "ygyQeiNrFGzZ"
      }
    }
  ]
}